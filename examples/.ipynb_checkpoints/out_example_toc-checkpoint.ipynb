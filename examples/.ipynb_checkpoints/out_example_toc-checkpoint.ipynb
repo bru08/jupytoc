{
 "metadata": {
  "language_info": {
   "codemirror_mode": {
    "name": "ipython",
    "version": 3
   },
   "file_extension": ".py",
   "mimetype": "text/x-python",
   "name": "python",
   "nbconvert_exporter": "python",
   "pygments_lexer": "ipython3",
   "version": "3.7.9-final"
  },
  "orig_nbformat": 2,
  "kernelspec": {
   "name": "python3",
   "display_name": "Python 3",
   "language": "python"
  }
 },
 "nbformat": 4,
 "nbformat_minor": 2,
 "cells": [
  {
   "source": [
    "# Example for Jupytoc"
   ],
   "cell_type": "markdown",
   "metadata": {}
  },
  {
   "source": [
    "**TOC**  \n  ",
    "<a id='toc-cell' class='toc-cell-top'></a>\n",
    "* [Example for Jupytoc](#0)\n",
    "    * [Functionalities](#1)\n",
    "        * [More headings](#2)\n",
    "* [Another Section](#4)\n"
   ],
   "cell_type": "markdown",
   "metadata": {}
  },
  {
   "source": [
    "----\n[Back to top](#toc-cell)\n",
    "\n<a id='1'></a>\n",
    "## Functionalities\n",
    "\n",
    "Here will be described the functionalities.. bla bla"
   ],
   "cell_type": "markdown",
   "metadata": {}
  },
  {
   "source": [
    "----\n[Back to top](#toc-cell)\n",
    "\n<a id='2'></a>\n",
    "### More headings"
   ],
   "cell_type": "markdown",
   "metadata": {}
  },
  {
   "cell_type": "code",
   "execution_count": 3,
   "metadata": {},
   "outputs": [
    {
     "output_type": "stream",
     "name": "stdout",
     "text": [
      "Hello world\n"
     ]
    }
   ],
   "source": [
    "print(\"Hello world\")"
   ]
  },
  {
   "source": [
    "----\n[Back to top](#toc-cell)\n",
    "\n<a id='4'></a>\n",
    "# Another Section"
   ],
   "cell_type": "markdown",
   "metadata": {}
  },
  {
   "cell_type": "code",
   "execution_count": null,
   "metadata": {},
   "outputs": [],
   "source": []
  }
 ]
}